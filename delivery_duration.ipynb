{
 "cells": [
  {
   "cell_type": "code",
   "execution_count": 1,
   "metadata": {},
   "outputs": [],
   "source": [
    "from IPython.display import Markdown, display\n",
    "\n",
    "import pandas as pd\n",
    "import numpy as np\n",
    "np.random.seed(42)\n",
    "rng = np.random.default_rng(42)\n",
    "\n",
    "import matplotlib.pyplot as plt\n",
    "import seaborn as sns\n",
    "from sklearn.model_selection import train_test_split, GridSearchCV, RandomizedSearchCV\n",
    "from sklearn.preprocessing import PolynomialFeatures\n",
    "from sklearn.impute import KNNImputer\n",
    "from sklearn.linear_model import LinearRegression\n",
    "from sklearn.metrics import mean_squared_error, r2_score\n",
    "import category_encoders as ce\n",
    "from sklearn.ensemble import RandomForestRegressor\n",
    "%matplotlib inline\n",
    "%config InlineBackend.figure_format = 'svg'\n",
    "\n",
    "from pathlib import Path\n",
    "data_path = Path('./data')"
   ]
  },
  {
   "cell_type": "markdown",
   "metadata": {},
   "source": [
    "### dataframe"
   ]
  },
  {
   "cell_type": "code",
   "execution_count": 2,
   "metadata": {},
   "outputs": [],
   "source": [
    "df = pd.read_csv(data_path / 'historical_data.csv')"
   ]
  },
  {
   "cell_type": "code",
   "execution_count": 3,
   "metadata": {},
   "outputs": [
    {
     "data": {
      "text/html": [
       "<div>\n",
       "<style scoped>\n",
       "    .dataframe tbody tr th:only-of-type {\n",
       "        vertical-align: middle;\n",
       "    }\n",
       "\n",
       "    .dataframe tbody tr th {\n",
       "        vertical-align: top;\n",
       "    }\n",
       "\n",
       "    .dataframe thead th {\n",
       "        text-align: right;\n",
       "    }\n",
       "</style>\n",
       "<table border=\"1\" class=\"dataframe\">\n",
       "  <thead>\n",
       "    <tr style=\"text-align: right;\">\n",
       "      <th></th>\n",
       "      <th>market_id</th>\n",
       "      <th>created_at</th>\n",
       "      <th>actual_delivery_time</th>\n",
       "      <th>store_id</th>\n",
       "      <th>store_primary_category</th>\n",
       "      <th>order_protocol</th>\n",
       "      <th>total_items</th>\n",
       "      <th>subtotal</th>\n",
       "      <th>num_distinct_items</th>\n",
       "      <th>min_item_price</th>\n",
       "      <th>max_item_price</th>\n",
       "      <th>total_onshift_dashers</th>\n",
       "      <th>total_busy_dashers</th>\n",
       "      <th>total_outstanding_orders</th>\n",
       "      <th>estimated_order_place_duration</th>\n",
       "      <th>estimated_store_to_consumer_driving_duration</th>\n",
       "    </tr>\n",
       "  </thead>\n",
       "  <tbody>\n",
       "    <tr>\n",
       "      <th>0</th>\n",
       "      <td>1.0</td>\n",
       "      <td>2015-02-06 22:24:17</td>\n",
       "      <td>2015-02-06 23:27:16</td>\n",
       "      <td>1845</td>\n",
       "      <td>american</td>\n",
       "      <td>1.0</td>\n",
       "      <td>4</td>\n",
       "      <td>3441</td>\n",
       "      <td>4</td>\n",
       "      <td>557</td>\n",
       "      <td>1239</td>\n",
       "      <td>33.0</td>\n",
       "      <td>14.0</td>\n",
       "      <td>21.0</td>\n",
       "      <td>446</td>\n",
       "      <td>861.0</td>\n",
       "    </tr>\n",
       "    <tr>\n",
       "      <th>1</th>\n",
       "      <td>2.0</td>\n",
       "      <td>2015-02-10 21:49:25</td>\n",
       "      <td>2015-02-10 22:56:29</td>\n",
       "      <td>5477</td>\n",
       "      <td>mexican</td>\n",
       "      <td>2.0</td>\n",
       "      <td>1</td>\n",
       "      <td>1900</td>\n",
       "      <td>1</td>\n",
       "      <td>1400</td>\n",
       "      <td>1400</td>\n",
       "      <td>1.0</td>\n",
       "      <td>2.0</td>\n",
       "      <td>2.0</td>\n",
       "      <td>446</td>\n",
       "      <td>690.0</td>\n",
       "    </tr>\n",
       "    <tr>\n",
       "      <th>2</th>\n",
       "      <td>3.0</td>\n",
       "      <td>2015-01-22 20:39:28</td>\n",
       "      <td>2015-01-22 21:09:09</td>\n",
       "      <td>5477</td>\n",
       "      <td>NaN</td>\n",
       "      <td>1.0</td>\n",
       "      <td>1</td>\n",
       "      <td>1900</td>\n",
       "      <td>1</td>\n",
       "      <td>1900</td>\n",
       "      <td>1900</td>\n",
       "      <td>1.0</td>\n",
       "      <td>0.0</td>\n",
       "      <td>0.0</td>\n",
       "      <td>446</td>\n",
       "      <td>690.0</td>\n",
       "    </tr>\n",
       "    <tr>\n",
       "      <th>3</th>\n",
       "      <td>3.0</td>\n",
       "      <td>2015-02-03 21:21:45</td>\n",
       "      <td>2015-02-03 22:13:00</td>\n",
       "      <td>5477</td>\n",
       "      <td>NaN</td>\n",
       "      <td>1.0</td>\n",
       "      <td>6</td>\n",
       "      <td>6900</td>\n",
       "      <td>5</td>\n",
       "      <td>600</td>\n",
       "      <td>1800</td>\n",
       "      <td>1.0</td>\n",
       "      <td>1.0</td>\n",
       "      <td>2.0</td>\n",
       "      <td>446</td>\n",
       "      <td>289.0</td>\n",
       "    </tr>\n",
       "    <tr>\n",
       "      <th>4</th>\n",
       "      <td>3.0</td>\n",
       "      <td>2015-02-15 02:40:36</td>\n",
       "      <td>2015-02-15 03:20:26</td>\n",
       "      <td>5477</td>\n",
       "      <td>NaN</td>\n",
       "      <td>1.0</td>\n",
       "      <td>3</td>\n",
       "      <td>3900</td>\n",
       "      <td>3</td>\n",
       "      <td>1100</td>\n",
       "      <td>1600</td>\n",
       "      <td>6.0</td>\n",
       "      <td>6.0</td>\n",
       "      <td>9.0</td>\n",
       "      <td>446</td>\n",
       "      <td>650.0</td>\n",
       "    </tr>\n",
       "    <tr>\n",
       "      <th>...</th>\n",
       "      <td>...</td>\n",
       "      <td>...</td>\n",
       "      <td>...</td>\n",
       "      <td>...</td>\n",
       "      <td>...</td>\n",
       "      <td>...</td>\n",
       "      <td>...</td>\n",
       "      <td>...</td>\n",
       "      <td>...</td>\n",
       "      <td>...</td>\n",
       "      <td>...</td>\n",
       "      <td>...</td>\n",
       "      <td>...</td>\n",
       "      <td>...</td>\n",
       "      <td>...</td>\n",
       "      <td>...</td>\n",
       "    </tr>\n",
       "    <tr>\n",
       "      <th>197423</th>\n",
       "      <td>1.0</td>\n",
       "      <td>2015-02-17 00:19:41</td>\n",
       "      <td>2015-02-17 01:24:48</td>\n",
       "      <td>2956</td>\n",
       "      <td>fast</td>\n",
       "      <td>4.0</td>\n",
       "      <td>3</td>\n",
       "      <td>1389</td>\n",
       "      <td>3</td>\n",
       "      <td>345</td>\n",
       "      <td>649</td>\n",
       "      <td>17.0</td>\n",
       "      <td>17.0</td>\n",
       "      <td>23.0</td>\n",
       "      <td>251</td>\n",
       "      <td>331.0</td>\n",
       "    </tr>\n",
       "    <tr>\n",
       "      <th>197424</th>\n",
       "      <td>1.0</td>\n",
       "      <td>2015-02-13 00:01:59</td>\n",
       "      <td>2015-02-13 00:58:22</td>\n",
       "      <td>2956</td>\n",
       "      <td>fast</td>\n",
       "      <td>4.0</td>\n",
       "      <td>6</td>\n",
       "      <td>3010</td>\n",
       "      <td>4</td>\n",
       "      <td>405</td>\n",
       "      <td>825</td>\n",
       "      <td>12.0</td>\n",
       "      <td>11.0</td>\n",
       "      <td>14.0</td>\n",
       "      <td>251</td>\n",
       "      <td>915.0</td>\n",
       "    </tr>\n",
       "    <tr>\n",
       "      <th>197425</th>\n",
       "      <td>1.0</td>\n",
       "      <td>2015-01-24 04:46:08</td>\n",
       "      <td>2015-01-24 05:36:16</td>\n",
       "      <td>2956</td>\n",
       "      <td>fast</td>\n",
       "      <td>4.0</td>\n",
       "      <td>5</td>\n",
       "      <td>1836</td>\n",
       "      <td>3</td>\n",
       "      <td>300</td>\n",
       "      <td>399</td>\n",
       "      <td>39.0</td>\n",
       "      <td>41.0</td>\n",
       "      <td>40.0</td>\n",
       "      <td>251</td>\n",
       "      <td>795.0</td>\n",
       "    </tr>\n",
       "    <tr>\n",
       "      <th>197426</th>\n",
       "      <td>1.0</td>\n",
       "      <td>2015-02-01 18:18:15</td>\n",
       "      <td>2015-02-01 19:23:22</td>\n",
       "      <td>3630</td>\n",
       "      <td>sandwich</td>\n",
       "      <td>1.0</td>\n",
       "      <td>1</td>\n",
       "      <td>1175</td>\n",
       "      <td>1</td>\n",
       "      <td>535</td>\n",
       "      <td>535</td>\n",
       "      <td>7.0</td>\n",
       "      <td>7.0</td>\n",
       "      <td>12.0</td>\n",
       "      <td>446</td>\n",
       "      <td>384.0</td>\n",
       "    </tr>\n",
       "    <tr>\n",
       "      <th>197427</th>\n",
       "      <td>1.0</td>\n",
       "      <td>2015-02-08 19:24:33</td>\n",
       "      <td>2015-02-08 20:01:41</td>\n",
       "      <td>3630</td>\n",
       "      <td>sandwich</td>\n",
       "      <td>1.0</td>\n",
       "      <td>4</td>\n",
       "      <td>2605</td>\n",
       "      <td>4</td>\n",
       "      <td>425</td>\n",
       "      <td>750</td>\n",
       "      <td>20.0</td>\n",
       "      <td>20.0</td>\n",
       "      <td>23.0</td>\n",
       "      <td>446</td>\n",
       "      <td>134.0</td>\n",
       "    </tr>\n",
       "  </tbody>\n",
       "</table>\n",
       "<p>197428 rows × 16 columns</p>\n",
       "</div>"
      ],
      "text/plain": [
       "        market_id           created_at actual_delivery_time  store_id  \\\n",
       "0             1.0  2015-02-06 22:24:17  2015-02-06 23:27:16      1845   \n",
       "1             2.0  2015-02-10 21:49:25  2015-02-10 22:56:29      5477   \n",
       "2             3.0  2015-01-22 20:39:28  2015-01-22 21:09:09      5477   \n",
       "3             3.0  2015-02-03 21:21:45  2015-02-03 22:13:00      5477   \n",
       "4             3.0  2015-02-15 02:40:36  2015-02-15 03:20:26      5477   \n",
       "...           ...                  ...                  ...       ...   \n",
       "197423        1.0  2015-02-17 00:19:41  2015-02-17 01:24:48      2956   \n",
       "197424        1.0  2015-02-13 00:01:59  2015-02-13 00:58:22      2956   \n",
       "197425        1.0  2015-01-24 04:46:08  2015-01-24 05:36:16      2956   \n",
       "197426        1.0  2015-02-01 18:18:15  2015-02-01 19:23:22      3630   \n",
       "197427        1.0  2015-02-08 19:24:33  2015-02-08 20:01:41      3630   \n",
       "\n",
       "       store_primary_category  order_protocol  total_items  subtotal  \\\n",
       "0                    american             1.0            4      3441   \n",
       "1                     mexican             2.0            1      1900   \n",
       "2                         NaN             1.0            1      1900   \n",
       "3                         NaN             1.0            6      6900   \n",
       "4                         NaN             1.0            3      3900   \n",
       "...                       ...             ...          ...       ...   \n",
       "197423                   fast             4.0            3      1389   \n",
       "197424                   fast             4.0            6      3010   \n",
       "197425                   fast             4.0            5      1836   \n",
       "197426               sandwich             1.0            1      1175   \n",
       "197427               sandwich             1.0            4      2605   \n",
       "\n",
       "        num_distinct_items  min_item_price  max_item_price  \\\n",
       "0                        4             557            1239   \n",
       "1                        1            1400            1400   \n",
       "2                        1            1900            1900   \n",
       "3                        5             600            1800   \n",
       "4                        3            1100            1600   \n",
       "...                    ...             ...             ...   \n",
       "197423                   3             345             649   \n",
       "197424                   4             405             825   \n",
       "197425                   3             300             399   \n",
       "197426                   1             535             535   \n",
       "197427                   4             425             750   \n",
       "\n",
       "        total_onshift_dashers  total_busy_dashers  total_outstanding_orders  \\\n",
       "0                        33.0                14.0                      21.0   \n",
       "1                         1.0                 2.0                       2.0   \n",
       "2                         1.0                 0.0                       0.0   \n",
       "3                         1.0                 1.0                       2.0   \n",
       "4                         6.0                 6.0                       9.0   \n",
       "...                       ...                 ...                       ...   \n",
       "197423                   17.0                17.0                      23.0   \n",
       "197424                   12.0                11.0                      14.0   \n",
       "197425                   39.0                41.0                      40.0   \n",
       "197426                    7.0                 7.0                      12.0   \n",
       "197427                   20.0                20.0                      23.0   \n",
       "\n",
       "        estimated_order_place_duration  \\\n",
       "0                                  446   \n",
       "1                                  446   \n",
       "2                                  446   \n",
       "3                                  446   \n",
       "4                                  446   \n",
       "...                                ...   \n",
       "197423                             251   \n",
       "197424                             251   \n",
       "197425                             251   \n",
       "197426                             446   \n",
       "197427                             446   \n",
       "\n",
       "        estimated_store_to_consumer_driving_duration  \n",
       "0                                              861.0  \n",
       "1                                              690.0  \n",
       "2                                              690.0  \n",
       "3                                              289.0  \n",
       "4                                              650.0  \n",
       "...                                              ...  \n",
       "197423                                         331.0  \n",
       "197424                                         915.0  \n",
       "197425                                         795.0  \n",
       "197426                                         384.0  \n",
       "197427                                         134.0  \n",
       "\n",
       "[197428 rows x 16 columns]"
      ]
     },
     "execution_count": 3,
     "metadata": {},
     "output_type": "execute_result"
    }
   ],
   "source": [
    "df"
   ]
  },
  {
   "cell_type": "code",
   "execution_count": 4,
   "metadata": {},
   "outputs": [
    {
     "name": "stdout",
     "output_type": "stream",
     "text": [
      "<class 'pandas.core.frame.DataFrame'>\n",
      "RangeIndex: 197428 entries, 0 to 197427\n",
      "Data columns (total 16 columns):\n",
      " #   Column                                        Non-Null Count   Dtype  \n",
      "---  ------                                        --------------   -----  \n",
      " 0   market_id                                     196441 non-null  float64\n",
      " 1   created_at                                    197428 non-null  object \n",
      " 2   actual_delivery_time                          197421 non-null  object \n",
      " 3   store_id                                      197428 non-null  int64  \n",
      " 4   store_primary_category                        192668 non-null  object \n",
      " 5   order_protocol                                196433 non-null  float64\n",
      " 6   total_items                                   197428 non-null  int64  \n",
      " 7   subtotal                                      197428 non-null  int64  \n",
      " 8   num_distinct_items                            197428 non-null  int64  \n",
      " 9   min_item_price                                197428 non-null  int64  \n",
      " 10  max_item_price                                197428 non-null  int64  \n",
      " 11  total_onshift_dashers                         181166 non-null  float64\n",
      " 12  total_busy_dashers                            181166 non-null  float64\n",
      " 13  total_outstanding_orders                      181166 non-null  float64\n",
      " 14  estimated_order_place_duration                197428 non-null  int64  \n",
      " 15  estimated_store_to_consumer_driving_duration  196902 non-null  float64\n",
      "dtypes: float64(6), int64(7), object(3)\n",
      "memory usage: 24.1+ MB\n"
     ]
    }
   ],
   "source": [
    "df.info()"
   ]
  },
  {
   "cell_type": "markdown",
   "metadata": {},
   "source": [
    "### initial data processing "
   ]
  },
  {
   "cell_type": "code",
   "execution_count": 5,
   "metadata": {},
   "outputs": [],
   "source": [
    "df['created_at'] = pd.to_datetime(df['created_at'])"
   ]
  },
  {
   "cell_type": "code",
   "execution_count": 6,
   "metadata": {},
   "outputs": [],
   "source": [
    "df['actual_delivery_time'] = pd.to_datetime(df['actual_delivery_time'])"
   ]
  },
  {
   "cell_type": "markdown",
   "metadata": {},
   "source": [
    "#### handeling nulls"
   ]
  },
  {
   "cell_type": "code",
   "execution_count": 7,
   "metadata": {},
   "outputs": [],
   "source": [
    "def nulls_data(df): \n",
    "\n",
    "    null_counts = df.isnull().sum()\n",
    "    null_counts = null_counts[null_counts > 0]\n",
    "    percent_null = (null_counts/len(df)) * 100\n",
    "    null_table = pd.DataFrame({'column': null_counts.index, 'data type': df[null_counts.index].dtypes, 'number of nulls': null_counts.values, \n",
    "                               'precent null': percent_null.values})\n",
    "    null_table = null_table.sort_values(by='precent null', ascending=False).reset_index(drop=True)\n",
    "\n",
    "    return null_table"
   ]
  },
  {
   "cell_type": "code",
   "execution_count": 8,
   "metadata": {},
   "outputs": [
    {
     "data": {
      "text/html": [
       "<div>\n",
       "<style scoped>\n",
       "    .dataframe tbody tr th:only-of-type {\n",
       "        vertical-align: middle;\n",
       "    }\n",
       "\n",
       "    .dataframe tbody tr th {\n",
       "        vertical-align: top;\n",
       "    }\n",
       "\n",
       "    .dataframe thead th {\n",
       "        text-align: right;\n",
       "    }\n",
       "</style>\n",
       "<table border=\"1\" class=\"dataframe\">\n",
       "  <thead>\n",
       "    <tr style=\"text-align: right;\">\n",
       "      <th></th>\n",
       "      <th>column</th>\n",
       "      <th>data type</th>\n",
       "      <th>number of nulls</th>\n",
       "      <th>precent null</th>\n",
       "    </tr>\n",
       "  </thead>\n",
       "  <tbody>\n",
       "    <tr>\n",
       "      <th>0</th>\n",
       "      <td>total_onshift_dashers</td>\n",
       "      <td>float64</td>\n",
       "      <td>16262</td>\n",
       "      <td>8.236927</td>\n",
       "    </tr>\n",
       "    <tr>\n",
       "      <th>1</th>\n",
       "      <td>total_busy_dashers</td>\n",
       "      <td>float64</td>\n",
       "      <td>16262</td>\n",
       "      <td>8.236927</td>\n",
       "    </tr>\n",
       "    <tr>\n",
       "      <th>2</th>\n",
       "      <td>total_outstanding_orders</td>\n",
       "      <td>float64</td>\n",
       "      <td>16262</td>\n",
       "      <td>8.236927</td>\n",
       "    </tr>\n",
       "    <tr>\n",
       "      <th>3</th>\n",
       "      <td>store_primary_category</td>\n",
       "      <td>object</td>\n",
       "      <td>4760</td>\n",
       "      <td>2.411006</td>\n",
       "    </tr>\n",
       "    <tr>\n",
       "      <th>4</th>\n",
       "      <td>order_protocol</td>\n",
       "      <td>float64</td>\n",
       "      <td>995</td>\n",
       "      <td>0.503981</td>\n",
       "    </tr>\n",
       "    <tr>\n",
       "      <th>5</th>\n",
       "      <td>market_id</td>\n",
       "      <td>float64</td>\n",
       "      <td>987</td>\n",
       "      <td>0.499929</td>\n",
       "    </tr>\n",
       "    <tr>\n",
       "      <th>6</th>\n",
       "      <td>estimated_store_to_consumer_driving_duration</td>\n",
       "      <td>float64</td>\n",
       "      <td>526</td>\n",
       "      <td>0.266426</td>\n",
       "    </tr>\n",
       "    <tr>\n",
       "      <th>7</th>\n",
       "      <td>actual_delivery_time</td>\n",
       "      <td>datetime64[ns]</td>\n",
       "      <td>7</td>\n",
       "      <td>0.003546</td>\n",
       "    </tr>\n",
       "  </tbody>\n",
       "</table>\n",
       "</div>"
      ],
      "text/plain": [
       "                                         column       data type  \\\n",
       "0                         total_onshift_dashers         float64   \n",
       "1                            total_busy_dashers         float64   \n",
       "2                      total_outstanding_orders         float64   \n",
       "3                        store_primary_category          object   \n",
       "4                                order_protocol         float64   \n",
       "5                                     market_id         float64   \n",
       "6  estimated_store_to_consumer_driving_duration         float64   \n",
       "7                          actual_delivery_time  datetime64[ns]   \n",
       "\n",
       "   number of nulls  precent null  \n",
       "0            16262      8.236927  \n",
       "1            16262      8.236927  \n",
       "2            16262      8.236927  \n",
       "3             4760      2.411006  \n",
       "4              995      0.503981  \n",
       "5              987      0.499929  \n",
       "6              526      0.266426  \n",
       "7                7      0.003546  "
      ]
     },
     "execution_count": 8,
     "metadata": {},
     "output_type": "execute_result"
    }
   ],
   "source": [
    "nulls_data(df)"
   ]
  },
  {
   "cell_type": "code",
   "execution_count": null,
   "metadata": {},
   "outputs": [
    {
     "data": {
      "text/html": [
       "<div>\n",
       "<style scoped>\n",
       "    .dataframe tbody tr th:only-of-type {\n",
       "        vertical-align: middle;\n",
       "    }\n",
       "\n",
       "    .dataframe tbody tr th {\n",
       "        vertical-align: top;\n",
       "    }\n",
       "\n",
       "    .dataframe thead th {\n",
       "        text-align: right;\n",
       "    }\n",
       "</style>\n",
       "<table border=\"1\" class=\"dataframe\">\n",
       "  <thead>\n",
       "    <tr style=\"text-align: right;\">\n",
       "      <th></th>\n",
       "      <th>market_id</th>\n",
       "      <th>created_at</th>\n",
       "      <th>actual_delivery_time</th>\n",
       "      <th>store_id</th>\n",
       "      <th>store_primary_category</th>\n",
       "      <th>order_protocol</th>\n",
       "      <th>total_items</th>\n",
       "      <th>subtotal</th>\n",
       "      <th>num_distinct_items</th>\n",
       "      <th>min_item_price</th>\n",
       "      <th>max_item_price</th>\n",
       "      <th>total_onshift_dashers</th>\n",
       "      <th>total_busy_dashers</th>\n",
       "      <th>total_outstanding_orders</th>\n",
       "      <th>estimated_order_place_duration</th>\n",
       "      <th>estimated_store_to_consumer_driving_duration</th>\n",
       "    </tr>\n",
       "  </thead>\n",
       "  <tbody>\n",
       "    <tr>\n",
       "      <th>160</th>\n",
       "      <td>6.0</td>\n",
       "      <td>2015-02-06 01:11:56</td>\n",
       "      <td>2015-02-06 01:42:51</td>\n",
       "      <td>976</td>\n",
       "      <td>breakfast</td>\n",
       "      <td>2.0</td>\n",
       "      <td>2</td>\n",
       "      <td>575</td>\n",
       "      <td>2</td>\n",
       "      <td>225</td>\n",
       "      <td>350</td>\n",
       "      <td>NaN</td>\n",
       "      <td>NaN</td>\n",
       "      <td>NaN</td>\n",
       "      <td>251</td>\n",
       "      <td>671.0</td>\n",
       "    </tr>\n",
       "    <tr>\n",
       "      <th>161</th>\n",
       "      <td>6.0</td>\n",
       "      <td>2015-02-14 02:07:47</td>\n",
       "      <td>2015-02-14 03:17:37</td>\n",
       "      <td>976</td>\n",
       "      <td>breakfast</td>\n",
       "      <td>2.0</td>\n",
       "      <td>5</td>\n",
       "      <td>1415</td>\n",
       "      <td>3</td>\n",
       "      <td>185</td>\n",
       "      <td>675</td>\n",
       "      <td>NaN</td>\n",
       "      <td>NaN</td>\n",
       "      <td>NaN</td>\n",
       "      <td>251</td>\n",
       "      <td>893.0</td>\n",
       "    </tr>\n",
       "    <tr>\n",
       "      <th>162</th>\n",
       "      <td>6.0</td>\n",
       "      <td>2015-01-31 21:58:30</td>\n",
       "      <td>2015-01-31 22:55:32</td>\n",
       "      <td>976</td>\n",
       "      <td>breakfast</td>\n",
       "      <td>2.0</td>\n",
       "      <td>1</td>\n",
       "      <td>650</td>\n",
       "      <td>1</td>\n",
       "      <td>650</td>\n",
       "      <td>650</td>\n",
       "      <td>NaN</td>\n",
       "      <td>NaN</td>\n",
       "      <td>NaN</td>\n",
       "      <td>251</td>\n",
       "      <td>479.0</td>\n",
       "    </tr>\n",
       "    <tr>\n",
       "      <th>163</th>\n",
       "      <td>6.0</td>\n",
       "      <td>2015-02-08 03:28:59</td>\n",
       "      <td>2015-02-08 05:32:11</td>\n",
       "      <td>976</td>\n",
       "      <td>breakfast</td>\n",
       "      <td>2.0</td>\n",
       "      <td>5</td>\n",
       "      <td>1550</td>\n",
       "      <td>5</td>\n",
       "      <td>225</td>\n",
       "      <td>700</td>\n",
       "      <td>NaN</td>\n",
       "      <td>NaN</td>\n",
       "      <td>NaN</td>\n",
       "      <td>251</td>\n",
       "      <td>1104.0</td>\n",
       "    </tr>\n",
       "    <tr>\n",
       "      <th>164</th>\n",
       "      <td>6.0</td>\n",
       "      <td>2015-01-23 19:29:17</td>\n",
       "      <td>2015-01-23 20:25:25</td>\n",
       "      <td>976</td>\n",
       "      <td>breakfast</td>\n",
       "      <td>2.0</td>\n",
       "      <td>6</td>\n",
       "      <td>1110</td>\n",
       "      <td>5</td>\n",
       "      <td>185</td>\n",
       "      <td>185</td>\n",
       "      <td>NaN</td>\n",
       "      <td>NaN</td>\n",
       "      <td>NaN</td>\n",
       "      <td>251</td>\n",
       "      <td>584.0</td>\n",
       "    </tr>\n",
       "    <tr>\n",
       "      <th>...</th>\n",
       "      <td>...</td>\n",
       "      <td>...</td>\n",
       "      <td>...</td>\n",
       "      <td>...</td>\n",
       "      <td>...</td>\n",
       "      <td>...</td>\n",
       "      <td>...</td>\n",
       "      <td>...</td>\n",
       "      <td>...</td>\n",
       "      <td>...</td>\n",
       "      <td>...</td>\n",
       "      <td>...</td>\n",
       "      <td>...</td>\n",
       "      <td>...</td>\n",
       "      <td>...</td>\n",
       "      <td>...</td>\n",
       "    </tr>\n",
       "    <tr>\n",
       "      <th>197196</th>\n",
       "      <td>3.0</td>\n",
       "      <td>2015-02-10 19:55:29</td>\n",
       "      <td>2015-02-10 20:33:13</td>\n",
       "      <td>5382</td>\n",
       "      <td>indian</td>\n",
       "      <td>2.0</td>\n",
       "      <td>3</td>\n",
       "      <td>1792</td>\n",
       "      <td>3</td>\n",
       "      <td>163</td>\n",
       "      <td>1177</td>\n",
       "      <td>NaN</td>\n",
       "      <td>NaN</td>\n",
       "      <td>NaN</td>\n",
       "      <td>251</td>\n",
       "      <td>725.0</td>\n",
       "    </tr>\n",
       "    <tr>\n",
       "      <th>197197</th>\n",
       "      <td>3.0</td>\n",
       "      <td>2015-02-06 03:05:38</td>\n",
       "      <td>2015-02-06 03:58:16</td>\n",
       "      <td>5382</td>\n",
       "      <td>indian</td>\n",
       "      <td>2.0</td>\n",
       "      <td>8</td>\n",
       "      <td>2923</td>\n",
       "      <td>5</td>\n",
       "      <td>50</td>\n",
       "      <td>1199</td>\n",
       "      <td>NaN</td>\n",
       "      <td>NaN</td>\n",
       "      <td>NaN</td>\n",
       "      <td>251</td>\n",
       "      <td>683.0</td>\n",
       "    </tr>\n",
       "    <tr>\n",
       "      <th>197198</th>\n",
       "      <td>3.0</td>\n",
       "      <td>2015-01-23 03:57:56</td>\n",
       "      <td>2015-01-23 04:43:17</td>\n",
       "      <td>5382</td>\n",
       "      <td>indian</td>\n",
       "      <td>2.0</td>\n",
       "      <td>3</td>\n",
       "      <td>3297</td>\n",
       "      <td>3</td>\n",
       "      <td>799</td>\n",
       "      <td>1299</td>\n",
       "      <td>NaN</td>\n",
       "      <td>NaN</td>\n",
       "      <td>NaN</td>\n",
       "      <td>251</td>\n",
       "      <td>725.0</td>\n",
       "    </tr>\n",
       "    <tr>\n",
       "      <th>197199</th>\n",
       "      <td>3.0</td>\n",
       "      <td>2015-01-24 03:15:41</td>\n",
       "      <td>2015-01-24 04:04:19</td>\n",
       "      <td>5382</td>\n",
       "      <td>indian</td>\n",
       "      <td>2.0</td>\n",
       "      <td>4</td>\n",
       "      <td>2776</td>\n",
       "      <td>4</td>\n",
       "      <td>179</td>\n",
       "      <td>1099</td>\n",
       "      <td>NaN</td>\n",
       "      <td>NaN</td>\n",
       "      <td>NaN</td>\n",
       "      <td>251</td>\n",
       "      <td>820.0</td>\n",
       "    </tr>\n",
       "    <tr>\n",
       "      <th>197421</th>\n",
       "      <td>1.0</td>\n",
       "      <td>2015-01-30 03:35:01</td>\n",
       "      <td>2015-01-30 04:42:19</td>\n",
       "      <td>2956</td>\n",
       "      <td>fast</td>\n",
       "      <td>4.0</td>\n",
       "      <td>2</td>\n",
       "      <td>979</td>\n",
       "      <td>2</td>\n",
       "      <td>145</td>\n",
       "      <td>339</td>\n",
       "      <td>NaN</td>\n",
       "      <td>NaN</td>\n",
       "      <td>NaN</td>\n",
       "      <td>251</td>\n",
       "      <td>614.0</td>\n",
       "    </tr>\n",
       "  </tbody>\n",
       "</table>\n",
       "<p>16262 rows × 16 columns</p>\n",
       "</div>"
      ],
      "text/plain": [
       "        market_id          created_at actual_delivery_time  store_id  \\\n",
       "160           6.0 2015-02-06 01:11:56  2015-02-06 01:42:51       976   \n",
       "161           6.0 2015-02-14 02:07:47  2015-02-14 03:17:37       976   \n",
       "162           6.0 2015-01-31 21:58:30  2015-01-31 22:55:32       976   \n",
       "163           6.0 2015-02-08 03:28:59  2015-02-08 05:32:11       976   \n",
       "164           6.0 2015-01-23 19:29:17  2015-01-23 20:25:25       976   \n",
       "...           ...                 ...                  ...       ...   \n",
       "197196        3.0 2015-02-10 19:55:29  2015-02-10 20:33:13      5382   \n",
       "197197        3.0 2015-02-06 03:05:38  2015-02-06 03:58:16      5382   \n",
       "197198        3.0 2015-01-23 03:57:56  2015-01-23 04:43:17      5382   \n",
       "197199        3.0 2015-01-24 03:15:41  2015-01-24 04:04:19      5382   \n",
       "197421        1.0 2015-01-30 03:35:01  2015-01-30 04:42:19      2956   \n",
       "\n",
       "       store_primary_category  order_protocol  total_items  subtotal  \\\n",
       "160                 breakfast             2.0            2       575   \n",
       "161                 breakfast             2.0            5      1415   \n",
       "162                 breakfast             2.0            1       650   \n",
       "163                 breakfast             2.0            5      1550   \n",
       "164                 breakfast             2.0            6      1110   \n",
       "...                       ...             ...          ...       ...   \n",
       "197196                 indian             2.0            3      1792   \n",
       "197197                 indian             2.0            8      2923   \n",
       "197198                 indian             2.0            3      3297   \n",
       "197199                 indian             2.0            4      2776   \n",
       "197421                   fast             4.0            2       979   \n",
       "\n",
       "        num_distinct_items  min_item_price  max_item_price  \\\n",
       "160                      2             225             350   \n",
       "161                      3             185             675   \n",
       "162                      1             650             650   \n",
       "163                      5             225             700   \n",
       "164                      5             185             185   \n",
       "...                    ...             ...             ...   \n",
       "197196                   3             163            1177   \n",
       "197197                   5              50            1199   \n",
       "197198                   3             799            1299   \n",
       "197199                   4             179            1099   \n",
       "197421                   2             145             339   \n",
       "\n",
       "        total_onshift_dashers  total_busy_dashers  total_outstanding_orders  \\\n",
       "160                       NaN                 NaN                       NaN   \n",
       "161                       NaN                 NaN                       NaN   \n",
       "162                       NaN                 NaN                       NaN   \n",
       "163                       NaN                 NaN                       NaN   \n",
       "164                       NaN                 NaN                       NaN   \n",
       "...                       ...                 ...                       ...   \n",
       "197196                    NaN                 NaN                       NaN   \n",
       "197197                    NaN                 NaN                       NaN   \n",
       "197198                    NaN                 NaN                       NaN   \n",
       "197199                    NaN                 NaN                       NaN   \n",
       "197421                    NaN                 NaN                       NaN   \n",
       "\n",
       "        estimated_order_place_duration  \\\n",
       "160                                251   \n",
       "161                                251   \n",
       "162                                251   \n",
       "163                                251   \n",
       "164                                251   \n",
       "...                                ...   \n",
       "197196                             251   \n",
       "197197                             251   \n",
       "197198                             251   \n",
       "197199                             251   \n",
       "197421                             251   \n",
       "\n",
       "        estimated_store_to_consumer_driving_duration  \n",
       "160                                            671.0  \n",
       "161                                            893.0  \n",
       "162                                            479.0  \n",
       "163                                           1104.0  \n",
       "164                                            584.0  \n",
       "...                                              ...  \n",
       "197196                                         725.0  \n",
       "197197                                         683.0  \n",
       "197198                                         725.0  \n",
       "197199                                         820.0  \n",
       "197421                                         614.0  \n",
       "\n",
       "[16262 rows x 16 columns]"
      ]
     },
     "metadata": {},
     "output_type": "display_data"
    }
   ],
   "source": [
    "# checking if the null values in these columns occurr all on the same rows\n",
    "df.loc[df['total_onshift_dashers'].isnull() & df['total_busy_dashers'].isnull() & df['total_outstanding_orders'].isnull()]"
   ]
  },
  {
   "cell_type": "code",
   "execution_count": null,
   "metadata": {},
   "outputs": [],
   "source": [
    "dropped_df = df.drop(columns=['total_onshift_dashers', 'total_busy_dashers', 'total_outstanding_orders'])"
   ]
  },
  {
   "cell_type": "code",
   "execution_count": null,
   "metadata": {},
   "outputs": [
    {
     "data": {
      "text/html": [
       "<div>\n",
       "<style scoped>\n",
       "    .dataframe tbody tr th:only-of-type {\n",
       "        vertical-align: middle;\n",
       "    }\n",
       "\n",
       "    .dataframe tbody tr th {\n",
       "        vertical-align: top;\n",
       "    }\n",
       "\n",
       "    .dataframe thead th {\n",
       "        text-align: right;\n",
       "    }\n",
       "</style>\n",
       "<table border=\"1\" class=\"dataframe\">\n",
       "  <thead>\n",
       "    <tr style=\"text-align: right;\">\n",
       "      <th></th>\n",
       "      <th>column</th>\n",
       "      <th>data type</th>\n",
       "      <th>number of nulls</th>\n",
       "      <th>precent null</th>\n",
       "    </tr>\n",
       "  </thead>\n",
       "  <tbody>\n",
       "    <tr>\n",
       "      <th>0</th>\n",
       "      <td>store_primary_category</td>\n",
       "      <td>object</td>\n",
       "      <td>4760</td>\n",
       "      <td>2.411006</td>\n",
       "    </tr>\n",
       "    <tr>\n",
       "      <th>1</th>\n",
       "      <td>order_protocol</td>\n",
       "      <td>float64</td>\n",
       "      <td>995</td>\n",
       "      <td>0.503981</td>\n",
       "    </tr>\n",
       "    <tr>\n",
       "      <th>2</th>\n",
       "      <td>market_id</td>\n",
       "      <td>float64</td>\n",
       "      <td>987</td>\n",
       "      <td>0.499929</td>\n",
       "    </tr>\n",
       "    <tr>\n",
       "      <th>3</th>\n",
       "      <td>estimated_store_to_consumer_driving_duration</td>\n",
       "      <td>float64</td>\n",
       "      <td>526</td>\n",
       "      <td>0.266426</td>\n",
       "    </tr>\n",
       "    <tr>\n",
       "      <th>4</th>\n",
       "      <td>actual_delivery_time</td>\n",
       "      <td>datetime64[ns]</td>\n",
       "      <td>7</td>\n",
       "      <td>0.003546</td>\n",
       "    </tr>\n",
       "  </tbody>\n",
       "</table>\n",
       "</div>"
      ],
      "text/plain": [
       "                                         column       data type  \\\n",
       "0                        store_primary_category          object   \n",
       "1                                order_protocol         float64   \n",
       "2                                     market_id         float64   \n",
       "3  estimated_store_to_consumer_driving_duration         float64   \n",
       "4                          actual_delivery_time  datetime64[ns]   \n",
       "\n",
       "   number of nulls  precent null  \n",
       "0             4760      2.411006  \n",
       "1              995      0.503981  \n",
       "2              987      0.499929  \n",
       "3              526      0.266426  \n",
       "4                7      0.003546  "
      ]
     },
     "metadata": {},
     "output_type": "display_data"
    }
   ],
   "source": [
    "# there is no overlap between the nulls in those three categories and the nulls in other categories\n",
    "nulls_data(dropped_df)"
   ]
  },
  {
   "cell_type": "code",
   "execution_count": 9,
   "metadata": {},
   "outputs": [],
   "source": [
    "marketid_mode = df.dropna(subset=['store_id', 'market_id']).groupby('store_id')['market_id'].agg(lambda x: x.mode().values[0] if len(x.mode()) > 0 else None)"
   ]
  },
  {
   "cell_type": "code",
   "execution_count": 10,
   "metadata": {},
   "outputs": [
    {
     "data": {
      "text/plain": [
       "store_id\n",
       "1       3.0\n",
       "2       1.0\n",
       "3       3.0\n",
       "4       1.0\n",
       "5       6.0\n",
       "       ... \n",
       "6983    1.0\n",
       "6984    6.0\n",
       "6985    1.0\n",
       "6986    4.0\n",
       "6987    3.0\n",
       "Name: market_id, Length: 6740, dtype: float64"
      ]
     },
     "execution_count": 10,
     "metadata": {},
     "output_type": "execute_result"
    }
   ],
   "source": [
    "marketid_mode"
   ]
  },
  {
   "cell_type": "code",
   "execution_count": 11,
   "metadata": {},
   "outputs": [],
   "source": [
    "df['market_id'] = df['market_id'].fillna(df['store_id'].map(marketid_mode))"
   ]
  },
  {
   "cell_type": "code",
   "execution_count": 12,
   "metadata": {},
   "outputs": [],
   "source": [
    "df = df.dropna(subset=['market_id'])"
   ]
  },
  {
   "cell_type": "code",
   "execution_count": 13,
   "metadata": {},
   "outputs": [],
   "source": [
    "category_mode = df.dropna(subset=['store_id', 'store_primary_category']).groupby('store_id')['store_primary_category'].agg(lambda x: x.mode().values[0] if len(x.mode()) > 0 else None)"
   ]
  },
  {
   "cell_type": "code",
   "execution_count": 14,
   "metadata": {},
   "outputs": [],
   "source": [
    "df.loc[:, 'store_primary_category'] = df['store_primary_category'].fillna(df['store_id'].map(category_mode))"
   ]
  },
  {
   "cell_type": "code",
   "execution_count": 15,
   "metadata": {},
   "outputs": [
    {
     "data": {
      "text/html": [
       "<div>\n",
       "<style scoped>\n",
       "    .dataframe tbody tr th:only-of-type {\n",
       "        vertical-align: middle;\n",
       "    }\n",
       "\n",
       "    .dataframe tbody tr th {\n",
       "        vertical-align: top;\n",
       "    }\n",
       "\n",
       "    .dataframe thead th {\n",
       "        text-align: right;\n",
       "    }\n",
       "</style>\n",
       "<table border=\"1\" class=\"dataframe\">\n",
       "  <thead>\n",
       "    <tr style=\"text-align: right;\">\n",
       "      <th></th>\n",
       "      <th>column</th>\n",
       "      <th>data type</th>\n",
       "      <th>number of nulls</th>\n",
       "      <th>precent null</th>\n",
       "    </tr>\n",
       "  </thead>\n",
       "  <tbody>\n",
       "    <tr>\n",
       "      <th>0</th>\n",
       "      <td>total_onshift_dashers</td>\n",
       "      <td>float64</td>\n",
       "      <td>16261</td>\n",
       "      <td>8.236546</td>\n",
       "    </tr>\n",
       "    <tr>\n",
       "      <th>1</th>\n",
       "      <td>total_busy_dashers</td>\n",
       "      <td>float64</td>\n",
       "      <td>16261</td>\n",
       "      <td>8.236546</td>\n",
       "    </tr>\n",
       "    <tr>\n",
       "      <th>2</th>\n",
       "      <td>total_outstanding_orders</td>\n",
       "      <td>float64</td>\n",
       "      <td>16261</td>\n",
       "      <td>8.236546</td>\n",
       "    </tr>\n",
       "    <tr>\n",
       "      <th>3</th>\n",
       "      <td>order_protocol</td>\n",
       "      <td>float64</td>\n",
       "      <td>992</td>\n",
       "      <td>0.502469</td>\n",
       "    </tr>\n",
       "    <tr>\n",
       "      <th>4</th>\n",
       "      <td>store_primary_category</td>\n",
       "      <td>object</td>\n",
       "      <td>866</td>\n",
       "      <td>0.438648</td>\n",
       "    </tr>\n",
       "    <tr>\n",
       "      <th>5</th>\n",
       "      <td>estimated_store_to_consumer_driving_duration</td>\n",
       "      <td>float64</td>\n",
       "      <td>526</td>\n",
       "      <td>0.266430</td>\n",
       "    </tr>\n",
       "    <tr>\n",
       "      <th>6</th>\n",
       "      <td>actual_delivery_time</td>\n",
       "      <td>datetime64[ns]</td>\n",
       "      <td>7</td>\n",
       "      <td>0.003546</td>\n",
       "    </tr>\n",
       "  </tbody>\n",
       "</table>\n",
       "</div>"
      ],
      "text/plain": [
       "                                         column       data type  \\\n",
       "0                         total_onshift_dashers         float64   \n",
       "1                            total_busy_dashers         float64   \n",
       "2                      total_outstanding_orders         float64   \n",
       "3                                order_protocol         float64   \n",
       "4                        store_primary_category          object   \n",
       "5  estimated_store_to_consumer_driving_duration         float64   \n",
       "6                          actual_delivery_time  datetime64[ns]   \n",
       "\n",
       "   number of nulls  precent null  \n",
       "0            16261      8.236546  \n",
       "1            16261      8.236546  \n",
       "2            16261      8.236546  \n",
       "3              992      0.502469  \n",
       "4              866      0.438648  \n",
       "5              526      0.266430  \n",
       "6                7      0.003546  "
      ]
     },
     "execution_count": 15,
     "metadata": {},
     "output_type": "execute_result"
    }
   ],
   "source": [
    "nulls_data(df)"
   ]
  },
  {
   "cell_type": "code",
   "execution_count": 16,
   "metadata": {},
   "outputs": [
    {
     "data": {
      "text/plain": [
       "created_at\n",
       "2015    197424\n",
       "2014         1\n",
       "Name: count, dtype: int64"
      ]
     },
     "execution_count": 16,
     "metadata": {},
     "output_type": "execute_result"
    }
   ],
   "source": [
    "df['created_at'].dt.year.value_counts()"
   ]
  },
  {
   "cell_type": "code",
   "execution_count": 17,
   "metadata": {},
   "outputs": [
    {
     "data": {
      "text/plain": [
       "created_at\n",
       "2     128942\n",
       "1      68482\n",
       "10         1\n",
       "Name: count, dtype: int64"
      ]
     },
     "execution_count": 17,
     "metadata": {},
     "output_type": "execute_result"
    }
   ],
   "source": [
    "df['created_at'].dt.month.value_counts()"
   ]
  },
  {
   "cell_type": "code",
   "execution_count": 18,
   "metadata": {},
   "outputs": [
    {
     "data": {
      "text/html": [
       "<div>\n",
       "<style scoped>\n",
       "    .dataframe tbody tr th:only-of-type {\n",
       "        vertical-align: middle;\n",
       "    }\n",
       "\n",
       "    .dataframe tbody tr th {\n",
       "        vertical-align: top;\n",
       "    }\n",
       "\n",
       "    .dataframe thead th {\n",
       "        text-align: right;\n",
       "    }\n",
       "</style>\n",
       "<table border=\"1\" class=\"dataframe\">\n",
       "  <thead>\n",
       "    <tr style=\"text-align: right;\">\n",
       "      <th></th>\n",
       "      <th>market_id</th>\n",
       "      <th>created_at</th>\n",
       "      <th>actual_delivery_time</th>\n",
       "      <th>store_id</th>\n",
       "      <th>store_primary_category</th>\n",
       "      <th>order_protocol</th>\n",
       "      <th>total_items</th>\n",
       "      <th>subtotal</th>\n",
       "      <th>num_distinct_items</th>\n",
       "      <th>min_item_price</th>\n",
       "      <th>max_item_price</th>\n",
       "      <th>total_onshift_dashers</th>\n",
       "      <th>total_busy_dashers</th>\n",
       "      <th>total_outstanding_orders</th>\n",
       "      <th>estimated_order_place_duration</th>\n",
       "      <th>estimated_store_to_consumer_driving_duration</th>\n",
       "    </tr>\n",
       "  </thead>\n",
       "  <tbody>\n",
       "    <tr>\n",
       "      <th>2690</th>\n",
       "      <td>1.0</td>\n",
       "      <td>2014-10-19 05:24:15</td>\n",
       "      <td>2015-01-25 19:11:54</td>\n",
       "      <td>3560</td>\n",
       "      <td>italian</td>\n",
       "      <td>1.0</td>\n",
       "      <td>1</td>\n",
       "      <td>1695</td>\n",
       "      <td>1</td>\n",
       "      <td>1595</td>\n",
       "      <td>1595</td>\n",
       "      <td>NaN</td>\n",
       "      <td>NaN</td>\n",
       "      <td>NaN</td>\n",
       "      <td>446</td>\n",
       "      <td>412.0</td>\n",
       "    </tr>\n",
       "  </tbody>\n",
       "</table>\n",
       "</div>"
      ],
      "text/plain": [
       "      market_id          created_at actual_delivery_time  store_id  \\\n",
       "2690        1.0 2014-10-19 05:24:15  2015-01-25 19:11:54      3560   \n",
       "\n",
       "     store_primary_category  order_protocol  total_items  subtotal  \\\n",
       "2690                italian             1.0            1      1695   \n",
       "\n",
       "      num_distinct_items  min_item_price  max_item_price  \\\n",
       "2690                   1            1595            1595   \n",
       "\n",
       "      total_onshift_dashers  total_busy_dashers  total_outstanding_orders  \\\n",
       "2690                    NaN                 NaN                       NaN   \n",
       "\n",
       "      estimated_order_place_duration  \\\n",
       "2690                             446   \n",
       "\n",
       "      estimated_store_to_consumer_driving_duration  \n",
       "2690                                         412.0  "
      ]
     },
     "execution_count": 18,
     "metadata": {},
     "output_type": "execute_result"
    }
   ],
   "source": [
    "# this is seems wrong. Check for other date descrpencies\n",
    "df[df['created_at'].dt.month == 10]"
   ]
  },
  {
   "cell_type": "code",
   "execution_count": null,
   "metadata": {},
   "outputs": [],
   "source": [
    "day = df['created_at'].dt.day_of_week.copy()"
   ]
  },
  {
   "cell_type": "code",
   "execution_count": null,
   "metadata": {},
   "outputs": [],
   "source": [
    "df.loc[:, 'day'] = day"
   ]
  },
  {
   "cell_type": "code",
   "execution_count": null,
   "metadata": {},
   "outputs": [
    {
     "data": {
      "text/plain": [
       "day\n",
       "5    34541\n",
       "6    33612\n",
       "4    27875\n",
       "0    27402\n",
       "3    25673\n",
       "2    24254\n",
       "1    24061\n",
       "Name: count, dtype: int64"
      ]
     },
     "metadata": {},
     "output_type": "display_data"
    }
   ],
   "source": [
    "df['day'].value_counts()"
   ]
  },
  {
   "cell_type": "code",
   "execution_count": null,
   "metadata": {},
   "outputs": [],
   "source": [
    "hour = df['created_at'].dt.hour.copy()"
   ]
  },
  {
   "cell_type": "code",
   "execution_count": null,
   "metadata": {},
   "outputs": [],
   "source": [
    "df.loc[:, 'hour'] = hour"
   ]
  },
  {
   "cell_type": "code",
   "execution_count": null,
   "metadata": {},
   "outputs": [
    {
     "data": {
      "text/plain": [
       "0         22\n",
       "1         21\n",
       "2         20\n",
       "3         21\n",
       "4          2\n",
       "          ..\n",
       "197423     0\n",
       "197424     0\n",
       "197425     4\n",
       "197426    18\n",
       "197427    19\n",
       "Name: hour, Length: 197418, dtype: int32"
      ]
     },
     "metadata": {},
     "output_type": "display_data"
    }
   ],
   "source": [
    "df['hour']"
   ]
  },
  {
   "cell_type": "code",
   "execution_count": null,
   "metadata": {},
   "outputs": [
    {
     "data": {
      "text/plain": [
       "actual_delivery_time\n",
       "2015    197418\n",
       "Name: count, dtype: int64"
      ]
     },
     "metadata": {},
     "output_type": "display_data"
    }
   ],
   "source": [
    "df['actual_delivery_time'].dt.year.value_counts()"
   ]
  },
  {
   "cell_type": "code",
   "execution_count": null,
   "metadata": {},
   "outputs": [
    {
     "data": {
      "text/plain": [
       "actual_delivery_time\n",
       "2    129188\n",
       "1     68230\n",
       "Name: count, dtype: int64"
      ]
     },
     "metadata": {},
     "output_type": "display_data"
    }
   ],
   "source": [
    "df['actual_delivery_time'].dt.month.value_counts()"
   ]
  },
  {
   "cell_type": "code",
   "execution_count": null,
   "metadata": {},
   "outputs": [
    {
     "data": {
      "text/plain": [
       "created_at\n",
       "2015    197417\n",
       "2014         1\n",
       "Name: count, dtype: int64"
      ]
     },
     "metadata": {},
     "output_type": "display_data"
    }
   ],
   "source": [
    "df['created_at'].dt.year.value_counts()"
   ]
  },
  {
   "cell_type": "code",
   "execution_count": null,
   "metadata": {},
   "outputs": [
    {
     "data": {
      "text/plain": [
       "created_at\n",
       "2     128935\n",
       "1      68482\n",
       "10         1\n",
       "Name: count, dtype: int64"
      ]
     },
     "metadata": {},
     "output_type": "display_data"
    }
   ],
   "source": [
    "df['created_at'].dt.month.value_counts()"
   ]
  },
  {
   "cell_type": "code",
   "execution_count": null,
   "metadata": {},
   "outputs": [
    {
     "data": {
      "text/plain": [
       "hour\n",
       "2     36973\n",
       "1     28187\n",
       "3     27067\n",
       "20    15560\n",
       "4     15250\n",
       "19    13541\n",
       "0     12669\n",
       "21    11464\n",
       "22     8821\n",
       "23     8161\n",
       "5      7096\n",
       "18     5100\n",
       "17     3413\n",
       "16     2109\n",
       "6      1416\n",
       "15      538\n",
       "14       40\n",
       "7        11\n",
       "8         2\n",
       "Name: count, dtype: int64"
      ]
     },
     "metadata": {},
     "output_type": "display_data"
    }
   ],
   "source": [
    "df['hour'].value_counts()"
   ]
  },
  {
   "cell_type": "code",
   "execution_count": null,
   "metadata": {},
   "outputs": [],
   "source": [
    "# df['precent_busy'] = (df['total_busy_dashers']/df['total_onshift_dashers']) * 100"
   ]
  },
  {
   "cell_type": "code",
   "execution_count": null,
   "metadata": {},
   "outputs": [
    {
     "data": {
      "text/plain": [
       "np.int64(39)"
      ]
     },
     "metadata": {},
     "output_type": "display_data"
    }
   ],
   "source": [
    "# np.isinf(df['precent_busy']).sum().sum()"
   ]
  },
  {
   "cell_type": "code",
   "execution_count": null,
   "metadata": {},
   "outputs": [
    {
     "data": {
      "text/plain": [
       "np.int64(3576)"
      ]
     },
     "metadata": {},
     "output_type": "display_data"
    }
   ],
   "source": [
    "#df['precent_busy'].isna().sum().sum()"
   ]
  },
  {
   "cell_type": "code",
   "execution_count": null,
   "metadata": {},
   "outputs": [],
   "source": [
    "#df['precent_busy'] = df['precent_busy'].replace([np.inf, -np.inf], 0)"
   ]
  },
  {
   "cell_type": "code",
   "execution_count": null,
   "metadata": {},
   "outputs": [
    {
     "data": {
      "text/plain": [
       "np.int64(3576)"
      ]
     },
     "metadata": {},
     "output_type": "display_data"
    }
   ],
   "source": [
    "#df['precent_busy'].isna().sum().sum()"
   ]
  },
  {
   "cell_type": "code",
   "execution_count": null,
   "metadata": {},
   "outputs": [],
   "source": [
    "#df['precent_busy'] = df['precent_busy'].fillna(0)"
   ]
  },
  {
   "cell_type": "code",
   "execution_count": null,
   "metadata": {},
   "outputs": [
    {
     "data": {
      "text/html": [
       "<div>\n",
       "<style scoped>\n",
       "    .dataframe tbody tr th:only-of-type {\n",
       "        vertical-align: middle;\n",
       "    }\n",
       "\n",
       "    .dataframe tbody tr th {\n",
       "        vertical-align: top;\n",
       "    }\n",
       "\n",
       "    .dataframe thead th {\n",
       "        text-align: right;\n",
       "    }\n",
       "</style>\n",
       "<table border=\"1\" class=\"dataframe\">\n",
       "  <thead>\n",
       "    <tr style=\"text-align: right;\">\n",
       "      <th></th>\n",
       "      <th>market_id</th>\n",
       "      <th>created_at</th>\n",
       "      <th>actual_delivery_time</th>\n",
       "      <th>store_id</th>\n",
       "      <th>store_primary_category</th>\n",
       "      <th>order_protocol</th>\n",
       "      <th>total_items</th>\n",
       "      <th>subtotal</th>\n",
       "      <th>num_distinct_items</th>\n",
       "      <th>min_item_price</th>\n",
       "      <th>max_item_price</th>\n",
       "      <th>total_onshift_dashers</th>\n",
       "      <th>total_busy_dashers</th>\n",
       "      <th>total_outstanding_orders</th>\n",
       "      <th>estimated_order_place_duration</th>\n",
       "      <th>estimated_store_to_consumer_driving_duration</th>\n",
       "      <th>actual_duration</th>\n",
       "      <th>day</th>\n",
       "      <th>hour</th>\n",
       "      <th>precent_busy</th>\n",
       "    </tr>\n",
       "  </thead>\n",
       "  <tbody>\n",
       "  </tbody>\n",
       "</table>\n",
       "</div>"
      ],
      "text/plain": [
       "Empty DataFrame\n",
       "Columns: [market_id, created_at, actual_delivery_time, store_id, store_primary_category, order_protocol, total_items, subtotal, num_distinct_items, min_item_price, max_item_price, total_onshift_dashers, total_busy_dashers, total_outstanding_orders, estimated_order_place_duration, estimated_store_to_consumer_driving_duration, actual_duration, day, hour, precent_busy]\n",
       "Index: []"
      ]
     },
     "metadata": {},
     "output_type": "display_data"
    }
   ],
   "source": [
    "#df.loc[df['precent_busy'].isna()]"
   ]
  },
  {
   "cell_type": "code",
   "execution_count": null,
   "metadata": {},
   "outputs": [
    {
     "data": {
      "text/plain": [
       "np.int64(3615)"
      ]
     },
     "metadata": {},
     "output_type": "display_data"
    }
   ],
   "source": [
    "#(df['total_onshift_dashers'] == 0).sum().sum()"
   ]
  },
  {
   "cell_type": "code",
   "execution_count": null,
   "metadata": {},
   "outputs": [],
   "source": []
  }
 ],
 "metadata": {
  "kernelspec": {
   "display_name": "ddp",
   "language": "python",
   "name": "python3"
  },
  "language_info": {
   "codemirror_mode": {
    "name": "ipython",
    "version": 3
   },
   "file_extension": ".py",
   "mimetype": "text/x-python",
   "name": "python",
   "nbconvert_exporter": "python",
   "pygments_lexer": "ipython3",
   "version": "3.13.2"
  }
 },
 "nbformat": 4,
 "nbformat_minor": 2
}
