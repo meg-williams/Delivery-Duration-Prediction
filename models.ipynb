{
 "cells": [
  {
   "cell_type": "code",
   "execution_count": 2,
   "metadata": {},
   "outputs": [],
   "source": [
    "from IPython.display import Markdown, display\n",
    "\n",
    "import pandas as pd\n",
    "import numpy as np\n",
    "import pickle\n",
    "\n",
    "\n",
    "# plots\n",
    "import matplotlib.pyplot as plt\n",
    "import seaborn as sns\n",
    "import plotly.express as px\n",
    "from plotly.subplots import make_subplots\n",
    "import missingno as msno\n",
    "import plotly.figure_factory as ff\n",
    "import plotly.graph_objects as go\n",
    "\n",
    "\n",
    "from sklearn.model_selection import train_test_split, GridSearchCV, RandomizedSearchCV\n",
    "from sklearn.preprocessing import TargetEncoder, PolynomialFeatures, StandardScaler\n",
    "import category_encoders as ce\n",
    "from sklearn.impute import KNNImputer\n",
    "from sklearn.linear_model import LinearRegression, Ridge\n",
    "from sklearn.ensemble import RandomForestRegressor\n",
    "from sklearn.pipeline import make_pipeline\n",
    "\n",
    "\n",
    "from sklearn.metrics import mean_squared_error, r2_score, mean_absolute_error\n",
    "import optuna\n",
    "\n",
    "from scipy.stats import gaussian_kde, boxcox, skew\n",
    "import logging\n",
    "from tqdm.notebook import trange\n",
    "import itertools\n",
    "\n",
    "%matplotlib inline\n",
    "%config InlineBackend.figure_format = 'svg'\n",
    "\n",
    "pd.set_option('display.max_colwidth', None)\n",
    "np.random.seed(42)\n",
    "rng = np.random.default_rng(42)\n",
    "from pathlib import Path\n",
    "data_path = Path('./data')"
   ]
  },
  {
   "cell_type": "code",
   "execution_count": 3,
   "metadata": {},
   "outputs": [],
   "source": [
    "with open('initial_eda_df.pkl', 'rb') as file:\n",
    "    initial_eda_df = pickle.load(file)"
   ]
  },
  {
   "cell_type": "code",
   "execution_count": 4,
   "metadata": {},
   "outputs": [
    {
     "data": {
      "text/html": [
       "<div>\n",
       "<style scoped>\n",
       "    .dataframe tbody tr th:only-of-type {\n",
       "        vertical-align: middle;\n",
       "    }\n",
       "\n",
       "    .dataframe tbody tr th {\n",
       "        vertical-align: top;\n",
       "    }\n",
       "\n",
       "    .dataframe thead th {\n",
       "        text-align: right;\n",
       "    }\n",
       "</style>\n",
       "<table border=\"1\" class=\"dataframe\">\n",
       "  <thead>\n",
       "    <tr style=\"text-align: right;\">\n",
       "      <th></th>\n",
       "      <th>market_id</th>\n",
       "      <th>created_at</th>\n",
       "      <th>store_id</th>\n",
       "      <th>store_primary_category</th>\n",
       "      <th>order_protocol</th>\n",
       "      <th>total_items</th>\n",
       "      <th>total_onshift_dashers</th>\n",
       "      <th>estimated_store_to_consumer_driving_duration</th>\n",
       "      <th>actual_duration</th>\n",
       "      <th>subtotal_bc</th>\n",
       "      <th>min_item_price_bc</th>\n",
       "      <th>max_price_bc</th>\n",
       "      <th>order_duration_bc</th>\n",
       "      <th>day</th>\n",
       "      <th>hour</th>\n",
       "      <th>dasher_ratio</th>\n",
       "      <th>net_dashers_orders</th>\n",
       "    </tr>\n",
       "  </thead>\n",
       "  <tbody>\n",
       "    <tr>\n",
       "      <th>0</th>\n",
       "      <td>1.0</td>\n",
       "      <td>2015-02-06 22:24:17</td>\n",
       "      <td>1845</td>\n",
       "      <td>2868.516769</td>\n",
       "      <td>1.0</td>\n",
       "      <td>4.0</td>\n",
       "      <td>33.0</td>\n",
       "      <td>861.0</td>\n",
       "      <td>3779.0</td>\n",
       "      <td>7.670465</td>\n",
       "      <td>12.989654</td>\n",
       "      <td>18.370412</td>\n",
       "      <td>2.002660</td>\n",
       "      <td>4</td>\n",
       "      <td>22</td>\n",
       "      <td>0.424242</td>\n",
       "      <td>12.0</td>\n",
       "    </tr>\n",
       "    <tr>\n",
       "      <th>1</th>\n",
       "      <td>2.0</td>\n",
       "      <td>2015-02-10 21:49:25</td>\n",
       "      <td>5477</td>\n",
       "      <td>2673.598786</td>\n",
       "      <td>2.0</td>\n",
       "      <td>1.0</td>\n",
       "      <td>1.0</td>\n",
       "      <td>690.0</td>\n",
       "      <td>4024.0</td>\n",
       "      <td>7.141866</td>\n",
       "      <td>16.717004</td>\n",
       "      <td>19.027647</td>\n",
       "      <td>2.002660</td>\n",
       "      <td>1</td>\n",
       "      <td>21</td>\n",
       "      <td>2.000000</td>\n",
       "      <td>-1.0</td>\n",
       "    </tr>\n",
       "    <tr>\n",
       "      <th>2</th>\n",
       "      <td>3.0</td>\n",
       "      <td>2015-01-22 20:39:28</td>\n",
       "      <td>5477</td>\n",
       "      <td>2984.153316</td>\n",
       "      <td>1.0</td>\n",
       "      <td>1.0</td>\n",
       "      <td>1.0</td>\n",
       "      <td>690.0</td>\n",
       "      <td>1781.0</td>\n",
       "      <td>7.141866</td>\n",
       "      <td>18.116326</td>\n",
       "      <td>20.755206</td>\n",
       "      <td>2.002660</td>\n",
       "      <td>3</td>\n",
       "      <td>20</td>\n",
       "      <td>0.000000</td>\n",
       "      <td>1.0</td>\n",
       "    </tr>\n",
       "    <tr>\n",
       "      <th>3</th>\n",
       "      <td>3.0</td>\n",
       "      <td>2015-02-03 21:21:45</td>\n",
       "      <td>5477</td>\n",
       "      <td>2984.153316</td>\n",
       "      <td>1.0</td>\n",
       "      <td>6.0</td>\n",
       "      <td>1.0</td>\n",
       "      <td>289.0</td>\n",
       "      <td>3075.0</td>\n",
       "      <td>8.283814</td>\n",
       "      <td>13.264879</td>\n",
       "      <td>20.440274</td>\n",
       "      <td>2.002660</td>\n",
       "      <td>1</td>\n",
       "      <td>21</td>\n",
       "      <td>1.000000</td>\n",
       "      <td>-1.0</td>\n",
       "    </tr>\n",
       "    <tr>\n",
       "      <th>4</th>\n",
       "      <td>3.0</td>\n",
       "      <td>2015-02-15 02:40:36</td>\n",
       "      <td>5477</td>\n",
       "      <td>2984.153316</td>\n",
       "      <td>1.0</td>\n",
       "      <td>3.0</td>\n",
       "      <td>6.0</td>\n",
       "      <td>650.0</td>\n",
       "      <td>2390.0</td>\n",
       "      <td>7.781316</td>\n",
       "      <td>15.672436</td>\n",
       "      <td>19.767861</td>\n",
       "      <td>2.002660</td>\n",
       "      <td>6</td>\n",
       "      <td>2</td>\n",
       "      <td>1.000000</td>\n",
       "      <td>-3.0</td>\n",
       "    </tr>\n",
       "    <tr>\n",
       "      <th>...</th>\n",
       "      <td>...</td>\n",
       "      <td>...</td>\n",
       "      <td>...</td>\n",
       "      <td>...</td>\n",
       "      <td>...</td>\n",
       "      <td>...</td>\n",
       "      <td>...</td>\n",
       "      <td>...</td>\n",
       "      <td>...</td>\n",
       "      <td>...</td>\n",
       "      <td>...</td>\n",
       "      <td>...</td>\n",
       "      <td>...</td>\n",
       "      <td>...</td>\n",
       "      <td>...</td>\n",
       "      <td>...</td>\n",
       "      <td>...</td>\n",
       "    </tr>\n",
       "    <tr>\n",
       "      <th>197423</th>\n",
       "      <td>1.0</td>\n",
       "      <td>2015-02-17 00:19:41</td>\n",
       "      <td>2956</td>\n",
       "      <td>2657.739372</td>\n",
       "      <td>4.0</td>\n",
       "      <td>3.0</td>\n",
       "      <td>17.0</td>\n",
       "      <td>331.0</td>\n",
       "      <td>3907.0</td>\n",
       "      <td>6.861162</td>\n",
       "      <td>11.314232</td>\n",
       "      <td>15.188312</td>\n",
       "      <td>1.965378</td>\n",
       "      <td>1</td>\n",
       "      <td>0</td>\n",
       "      <td>1.000000</td>\n",
       "      <td>-6.0</td>\n",
       "    </tr>\n",
       "    <tr>\n",
       "      <th>197424</th>\n",
       "      <td>1.0</td>\n",
       "      <td>2015-02-13 00:01:59</td>\n",
       "      <td>2956</td>\n",
       "      <td>2657.739372</td>\n",
       "      <td>4.0</td>\n",
       "      <td>6.0</td>\n",
       "      <td>12.0</td>\n",
       "      <td>915.0</td>\n",
       "      <td>3383.0</td>\n",
       "      <td>7.551765</td>\n",
       "      <td>11.856762</td>\n",
       "      <td>16.313275</td>\n",
       "      <td>1.965378</td>\n",
       "      <td>4</td>\n",
       "      <td>0</td>\n",
       "      <td>0.916667</td>\n",
       "      <td>-2.0</td>\n",
       "    </tr>\n",
       "    <tr>\n",
       "      <th>197425</th>\n",
       "      <td>1.0</td>\n",
       "      <td>2015-01-24 04:46:08</td>\n",
       "      <td>2956</td>\n",
       "      <td>2657.739372</td>\n",
       "      <td>4.0</td>\n",
       "      <td>5.0</td>\n",
       "      <td>39.0</td>\n",
       "      <td>795.0</td>\n",
       "      <td>3008.0</td>\n",
       "      <td>7.111227</td>\n",
       "      <td>10.855721</td>\n",
       "      <td>13.092747</td>\n",
       "      <td>1.965378</td>\n",
       "      <td>5</td>\n",
       "      <td>4</td>\n",
       "      <td>1.051282</td>\n",
       "      <td>-1.0</td>\n",
       "    </tr>\n",
       "    <tr>\n",
       "      <th>197426</th>\n",
       "      <td>1.0</td>\n",
       "      <td>2015-02-01 18:18:15</td>\n",
       "      <td>3630</td>\n",
       "      <td>2685.420236</td>\n",
       "      <td>1.0</td>\n",
       "      <td>1.0</td>\n",
       "      <td>7.0</td>\n",
       "      <td>384.0</td>\n",
       "      <td>3907.0</td>\n",
       "      <td>6.710704</td>\n",
       "      <td>12.842257</td>\n",
       "      <td>14.327525</td>\n",
       "      <td>2.002660</td>\n",
       "      <td>6</td>\n",
       "      <td>18</td>\n",
       "      <td>1.000000</td>\n",
       "      <td>-5.0</td>\n",
       "    </tr>\n",
       "    <tr>\n",
       "      <th>197427</th>\n",
       "      <td>1.0</td>\n",
       "      <td>2015-02-08 19:24:33</td>\n",
       "      <td>3630</td>\n",
       "      <td>2685.420236</td>\n",
       "      <td>1.0</td>\n",
       "      <td>4.0</td>\n",
       "      <td>20.0</td>\n",
       "      <td>134.0</td>\n",
       "      <td>2228.0</td>\n",
       "      <td>7.423322</td>\n",
       "      <td>12.023387</td>\n",
       "      <td>15.858847</td>\n",
       "      <td>2.002660</td>\n",
       "      <td>6</td>\n",
       "      <td>19</td>\n",
       "      <td>1.000000</td>\n",
       "      <td>-3.0</td>\n",
       "    </tr>\n",
       "  </tbody>\n",
       "</table>\n",
       "<p>193832 rows × 17 columns</p>\n",
       "</div>"
      ],
      "text/plain": [
       "        market_id          created_at  store_id store_primary_category  \\\n",
       "0             1.0 2015-02-06 22:24:17      1845            2868.516769   \n",
       "1             2.0 2015-02-10 21:49:25      5477            2673.598786   \n",
       "2             3.0 2015-01-22 20:39:28      5477            2984.153316   \n",
       "3             3.0 2015-02-03 21:21:45      5477            2984.153316   \n",
       "4             3.0 2015-02-15 02:40:36      5477            2984.153316   \n",
       "...           ...                 ...       ...                    ...   \n",
       "197423        1.0 2015-02-17 00:19:41      2956            2657.739372   \n",
       "197424        1.0 2015-02-13 00:01:59      2956            2657.739372   \n",
       "197425        1.0 2015-01-24 04:46:08      2956            2657.739372   \n",
       "197426        1.0 2015-02-01 18:18:15      3630            2685.420236   \n",
       "197427        1.0 2015-02-08 19:24:33      3630            2685.420236   \n",
       "\n",
       "        order_protocol  total_items  total_onshift_dashers  \\\n",
       "0                  1.0          4.0                   33.0   \n",
       "1                  2.0          1.0                    1.0   \n",
       "2                  1.0          1.0                    1.0   \n",
       "3                  1.0          6.0                    1.0   \n",
       "4                  1.0          3.0                    6.0   \n",
       "...                ...          ...                    ...   \n",
       "197423             4.0          3.0                   17.0   \n",
       "197424             4.0          6.0                   12.0   \n",
       "197425             4.0          5.0                   39.0   \n",
       "197426             1.0          1.0                    7.0   \n",
       "197427             1.0          4.0                   20.0   \n",
       "\n",
       "        estimated_store_to_consumer_driving_duration  actual_duration  \\\n",
       "0                                              861.0           3779.0   \n",
       "1                                              690.0           4024.0   \n",
       "2                                              690.0           1781.0   \n",
       "3                                              289.0           3075.0   \n",
       "4                                              650.0           2390.0   \n",
       "...                                              ...              ...   \n",
       "197423                                         331.0           3907.0   \n",
       "197424                                         915.0           3383.0   \n",
       "197425                                         795.0           3008.0   \n",
       "197426                                         384.0           3907.0   \n",
       "197427                                         134.0           2228.0   \n",
       "\n",
       "        subtotal_bc  min_item_price_bc  max_price_bc  order_duration_bc  day  \\\n",
       "0          7.670465          12.989654     18.370412           2.002660    4   \n",
       "1          7.141866          16.717004     19.027647           2.002660    1   \n",
       "2          7.141866          18.116326     20.755206           2.002660    3   \n",
       "3          8.283814          13.264879     20.440274           2.002660    1   \n",
       "4          7.781316          15.672436     19.767861           2.002660    6   \n",
       "...             ...                ...           ...                ...  ...   \n",
       "197423     6.861162          11.314232     15.188312           1.965378    1   \n",
       "197424     7.551765          11.856762     16.313275           1.965378    4   \n",
       "197425     7.111227          10.855721     13.092747           1.965378    5   \n",
       "197426     6.710704          12.842257     14.327525           2.002660    6   \n",
       "197427     7.423322          12.023387     15.858847           2.002660    6   \n",
       "\n",
       "        hour  dasher_ratio  net_dashers_orders  \n",
       "0         22      0.424242                12.0  \n",
       "1         21      2.000000                -1.0  \n",
       "2         20      0.000000                 1.0  \n",
       "3         21      1.000000                -1.0  \n",
       "4          2      1.000000                -3.0  \n",
       "...      ...           ...                 ...  \n",
       "197423     0      1.000000                -6.0  \n",
       "197424     0      0.916667                -2.0  \n",
       "197425     4      1.051282                -1.0  \n",
       "197426    18      1.000000                -5.0  \n",
       "197427    19      1.000000                -3.0  \n",
       "\n",
       "[193832 rows x 17 columns]"
      ]
     },
     "execution_count": 4,
     "metadata": {},
     "output_type": "execute_result"
    }
   ],
   "source": [
    "initial_eda_df"
   ]
  },
  {
   "cell_type": "code",
   "execution_count": 5,
   "metadata": {},
   "outputs": [],
   "source": [
    "X = initial_eda_df.drop(columns=['actual_duration', 'created_at'])\n",
    "y = initial_eda_df['actual_duration']\n",
    "\n",
    "xtrain, xtest, ytrain, ytest = train_test_split(X, y, test_size=0.25, random_state=42)"
   ]
  },
  {
   "cell_type": "code",
   "execution_count": 6,
   "metadata": {},
   "outputs": [
    {
     "name": "stdout",
     "output_type": "stream",
     "text": [
      "<class 'pandas.core.frame.DataFrame'>\n",
      "Index: 193832 entries, 0 to 197427\n",
      "Data columns (total 15 columns):\n",
      " #   Column                                        Non-Null Count   Dtype  \n",
      "---  ------                                        --------------   -----  \n",
      " 0   market_id                                     193832 non-null  float64\n",
      " 1   store_id                                      193832 non-null  int64  \n",
      " 2   store_primary_category                        193832 non-null  object \n",
      " 3   order_protocol                                193832 non-null  float64\n",
      " 4   total_items                                   193832 non-null  float64\n",
      " 5   total_onshift_dashers                         193832 non-null  float64\n",
      " 6   estimated_store_to_consumer_driving_duration  193832 non-null  float64\n",
      " 7   subtotal_bc                                   193832 non-null  float64\n",
      " 8   min_item_price_bc                             193832 non-null  float64\n",
      " 9   max_price_bc                                  193832 non-null  float64\n",
      " 10  order_duration_bc                             193832 non-null  float64\n",
      " 11  day                                           193832 non-null  int32  \n",
      " 12  hour                                          193832 non-null  int32  \n",
      " 13  dasher_ratio                                  193832 non-null  float64\n",
      " 14  net_dashers_orders                            193832 non-null  float64\n",
      "dtypes: float64(11), int32(2), int64(1), object(1)\n",
      "memory usage: 22.2+ MB\n"
     ]
    }
   ],
   "source": [
    "X.info()"
   ]
  },
  {
   "cell_type": "code",
   "execution_count": 7,
   "metadata": {},
   "outputs": [
    {
     "data": {
      "text/html": [
       "<div>\n",
       "<style scoped>\n",
       "    .dataframe tbody tr th:only-of-type {\n",
       "        vertical-align: middle;\n",
       "    }\n",
       "\n",
       "    .dataframe tbody tr th {\n",
       "        vertical-align: top;\n",
       "    }\n",
       "\n",
       "    .dataframe thead th {\n",
       "        text-align: right;\n",
       "    }\n",
       "</style>\n",
       "<table border=\"1\" class=\"dataframe\">\n",
       "  <thead>\n",
       "    <tr style=\"text-align: right;\">\n",
       "      <th></th>\n",
       "      <th>column1</th>\n",
       "      <th>column2</th>\n",
       "      <th>correlation</th>\n",
       "    </tr>\n",
       "  </thead>\n",
       "  <tbody>\n",
       "  </tbody>\n",
       "</table>\n",
       "</div>"
      ],
      "text/plain": [
       "Empty DataFrame\n",
       "Columns: [column1, column2, correlation]\n",
       "Index: []"
      ]
     },
     "execution_count": 7,
     "metadata": {},
     "output_type": "execute_result"
    }
   ],
   "source": [
    "corr_matrix = X.corr()\n",
    "\n",
    "mask = (corr_matrix.abs() > 0.8) & (corr_matrix != 1)\n",
    "columns_corr = mask.any(axis=0)\n",
    "\n",
    "corr_m = corr_matrix[corr_matrix.abs() > 0.7]\n",
    "corr_pairs = corr_m.stack().reset_index()\n",
    "corr_pairs.columns = ['column1', 'column2', 'correlation']\n",
    "corr_pairs.loc[corr_pairs['column1'] == corr_pairs['column2']]\n",
    "corr_pairs = corr_pairs.drop(corr_pairs.loc[corr_pairs['column1'] == corr_pairs['column2']].index)\n",
    "\n",
    "corr_pairs.drop_duplicates(subset='correlation')"
   ]
  },
  {
   "cell_type": "markdown",
   "metadata": {},
   "source": [
    "### initial_eda"
   ]
  },
  {
   "cell_type": "markdown",
   "metadata": {},
   "source": [
    "#### linear Regression"
   ]
  },
  {
   "cell_type": "code",
   "execution_count": 8,
   "metadata": {},
   "outputs": [
    {
     "name": "stdout",
     "output_type": "stream",
     "text": [
      "linear regression r^2: -13.307713688873656\n",
      "linear regression rmse: 1982.4093233051276\n"
     ]
    }
   ],
   "source": [
    "lr = LinearRegression()\n",
    "lr.fit(xtrain, ytrain)\n",
    "lr_preds = lr.predict(xtest)\n",
    "\n",
    "lr_r2 = r2_score(lr_preds, ytest)\n",
    "lr_rmse = np.sqrt(mean_squared_error(lr_preds, ytest))\n",
    "\n",
    "print(f'linear regression r^2: {lr_r2}')\n",
    "print(f'linear regression rmse: {lr_rmse}')"
   ]
  },
  {
   "cell_type": "markdown",
   "metadata": {},
   "source": [
    "#### polynomial regression"
   ]
  },
  {
   "cell_type": "code",
   "execution_count": 9,
   "metadata": {},
   "outputs": [],
   "source": [
    "pipeline = make_pipeline(PolynomialFeatures(), StandardScaler(), Ridge())"
   ]
  },
  {
   "cell_type": "markdown",
   "metadata": {},
   "source": [
    "##### poly1\n",
    "\n",
    "param_grid1 = {\n",
    "    'polynomialfeatures__degree': [1, 2, 3],\n",
    "    'ridge__alpha': [10, 100, 1000] \n",
    "}"
   ]
  },
  {
   "cell_type": "code",
   "execution_count": 10,
   "metadata": {},
   "outputs": [
    {
     "name": "stdout",
     "output_type": "stream",
     "text": [
      "polynomial regression r^2: -9.70862638252411\n",
      "polynomial regression rmse: 1963.8581062571138\n",
      "best parameters: {'polynomialfeatures__degree': 3, 'ridge__alpha': 10}\n"
     ]
    }
   ],
   "source": [
    "param_grid1 = {\n",
    "    'polynomialfeatures__degree': [1,2,3],\n",
    "    'ridge__alpha': [10, 100, 1000] \n",
    "}\n",
    "\n",
    "grid_search1 = GridSearchCV(pipeline, param_grid1, cv=5, scoring='neg_mean_squared_error', n_jobs=1)\n",
    "grid_search1.fit(xtrain, ytrain)\n",
    "\n",
    "poly1_best_model = grid_search1.best_estimator_\n",
    "poly1_best_param = grid_search1.best_params_\n",
    "poly1_preds = poly1_best_model.predict(xtest)\n",
    "\n",
    "poly1_r2 = r2_score(poly1_preds, ytest)\n",
    "poly1_rmse = np.sqrt(mean_squared_error(poly1_preds, ytest))\n",
    "\n",
    "print(f'polynomial regression r^2: {poly1_r2}')\n",
    "print(f'polynomial regression rmse: {poly1_rmse}')\n",
    "print(f'best parameters: {poly1_best_param}')"
   ]
  },
  {
   "cell_type": "markdown",
   "metadata": {},
   "source": [
    "#### random forest regression"
   ]
  },
  {
   "cell_type": "code",
   "execution_count": 11,
   "metadata": {},
   "outputs": [],
   "source": [
    "rf = RandomForestRegressor(random_state=42)"
   ]
  },
  {
   "cell_type": "code",
   "execution_count": 12,
   "metadata": {},
   "outputs": [
    {
     "name": "stdout",
     "output_type": "stream",
     "text": [
      "polynomial regression r^2: -9.054502307047215\n",
      "polynomial regression rmse: 1955.6035057372533\n"
     ]
    }
   ],
   "source": [
    "\n",
    "rf_param = {\n",
    "    'n_estimators': [20, 30, 50],\n",
    "    'max_depth': [20, 30, 50],\n",
    "    'min_samples_leaf': [5,7,10]\n",
    "}\n",
    "\n",
    "rf_search = RandomizedSearchCV(RandomForestRegressor(random_state=42), rf_param, n_iter=10, cv=5, n_jobs=1, random_state=42)\n",
    "rf_search.fit(xtrain, ytrain)\n",
    "\n",
    "rf_best_parm = rf_search.best_params_\n",
    "rf_best_model = rf_search.best_estimator_\n",
    "\n",
    "rf_best_preds = rf_best_model.predict(xtest)\n",
    "\n",
    "rf_r2 = r2_score(rf_best_preds, ytest)\n",
    "rf_rmse = np.sqrt(mean_squared_error(rf_best_preds, ytest))\n",
    "\n",
    "print(f'polynomial regression r^2: {rf_r2}')\n",
    "print(f'polynomial regression rmse: {rf_rmse}')"
   ]
  },
  {
   "cell_type": "code",
   "execution_count": 13,
   "metadata": {},
   "outputs": [
    {
     "data": {
      "text/plain": [
       "{'n_estimators': 50, 'min_samples_leaf': 10, 'max_depth': 30}"
      ]
     },
     "execution_count": 13,
     "metadata": {},
     "output_type": "execute_result"
    }
   ],
   "source": [
    "rf_best_parm"
   ]
  },
  {
   "cell_type": "code",
   "execution_count": 14,
   "metadata": {},
   "outputs": [
    {
     "name": "stdout",
     "output_type": "stream",
     "text": [
      "polynomial regression r^2: -9.951405101506019\n",
      "polynomial regression rmse: 1956.7849298068531\n"
     ]
    }
   ],
   "source": [
    "rf = RandomForestRegressor(random_state=42)\n",
    "rf_param = {\n",
    "    'n_estimators': [20, 30, 50],\n",
    "    'max_depth': [20, 30, 50],\n",
    "    'min_samples_leaf': [20,25,30]\n",
    "}\n",
    "\n",
    "rf_search = RandomizedSearchCV(RandomForestRegressor(random_state=42), rf_param, n_iter=10, cv=5, n_jobs=1, random_state=42)\n",
    "rf_search.fit(xtrain, ytrain)\n",
    "\n",
    "rf_best_parm = rf_search.best_params_\n",
    "rf_best_model = rf_search.best_estimator_\n",
    "\n",
    "rf_best_preds = rf_best_model.predict(xtest)\n",
    "\n",
    "rf_r2 = r2_score(rf_best_preds, ytest)\n",
    "rf_rmse = np.sqrt(mean_squared_error(rf_best_preds, ytest))\n",
    "\n",
    "print(f'polynomial regression r^2: {rf_r2}')\n",
    "print(f'polynomial regression rmse: {rf_rmse}')"
   ]
  },
  {
   "cell_type": "code",
   "execution_count": 15,
   "metadata": {},
   "outputs": [
    {
     "data": {
      "text/plain": [
       "{'n_estimators': 50, 'min_samples_leaf': 30, 'max_depth': 30}"
      ]
     },
     "execution_count": 15,
     "metadata": {},
     "output_type": "execute_result"
    }
   ],
   "source": [
    "rf_best_parm"
   ]
  },
  {
   "cell_type": "markdown",
   "metadata": {},
   "source": [
    "### subsets"
   ]
  },
  {
   "cell_type": "code",
   "execution_count": 16,
   "metadata": {},
   "outputs": [],
   "source": [
    "def fit_linear_reg(X_train, y_train, X_test, y_test):\n",
    "  model = LinearRegression()\n",
    "  model.fit(X_train, y_train)\n",
    "\n",
    "  n = len(y_test)\n",
    "  p = X_test.shape[1] + 1\n",
    "\n",
    "  ypred = model.predict(X_test)\n",
    "  sse = sum((y_test-ypred)**2)\n",
    "  mse = mean_squared_error(y_test, ypred)\n",
    "  mae = mean_absolute_error(y_test, ypred)\n",
    "  r2 = model.score(X_test, y_test)\n",
    "  adj_r2 = 1 - ((n-1)/(n-p))*(1-r2)\n",
    "\n",
    "  return mse, mae, r2, adj_r2"
   ]
  },
  {
   "cell_type": "code",
   "execution_count": 29,
   "metadata": {},
   "outputs": [],
   "source": [
    "def best_subset(X, y):\n",
    "\n",
    "  mse_list, mae_list, r2_list, adj_r2_list, features = [], [], [], [], []\n",
    "  xtrain, xtest, ytrain, ytest = train_test_split(X, y, test_size=0.2, random_state=42)\n",
    "\n",
    "  for k in trange(1, X.shape[1]+1, desc = 'Loop...'):              # p choose k\n",
    "\n",
    "   for combo in itertools.combinations(xtrain.columns, k):\n",
    "      tmp_results = fit_linear_reg(xtrain[list(combo)], ytrain, xtest[list(combo)], ytest)\n",
    "      mse_list.append(tmp_results[0])\n",
    "      mae_list.append(tmp_results[1])\n",
    "      r2_list.append(tmp_results[2])\n",
    "      adj_r2_list.append(tmp_results[3])\n",
    "      features.append(list(combo))\n",
    "\n",
    "  return mse_list, mae_list, r2_list, adj_r2_list, features"
   ]
  },
  {
   "cell_type": "code",
   "execution_count": null,
   "metadata": {},
   "outputs": [],
   "source": [
    "mse_list, mae_list, r2_list, adj_r2_list, features = best_subset(X, y)"
   ]
  }
 ],
 "metadata": {
  "kernelspec": {
   "display_name": "ddp",
   "language": "python",
   "name": "python3"
  },
  "language_info": {
   "codemirror_mode": {
    "name": "ipython",
    "version": 3
   },
   "file_extension": ".py",
   "mimetype": "text/x-python",
   "name": "python",
   "nbconvert_exporter": "python",
   "pygments_lexer": "ipython3",
   "version": "3.13.2"
  }
 },
 "nbformat": 4,
 "nbformat_minor": 2
}
