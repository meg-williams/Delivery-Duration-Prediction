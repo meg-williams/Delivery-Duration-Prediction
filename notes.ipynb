{
 "cells": [
  {
   "cell_type": "markdown",
   "metadata": {},
   "source": [
    "### cleaning data \n",
    "- rows: 197,428\n",
    "*** "
   ]
  },
  {
   "cell_type": "markdown",
   "metadata": {},
   "source": [
    "- to drop: \n",
    "\n",
    "    These are all null in the same row: \n",
    "    - total_onshift_dashers \n",
    "    - total_busy_dashers\t\n",
    "    - total_outstanding_orders\n",
    "    - \n",
    "\n",
    "    only 7 nulls\n",
    "    - actual_delivery_time\n",
    "\n",
    "- check column datatypes\n",
    "\n",
    "- check that month, day are the same for created_at and actual_devilvery_time\n",
    "\n",
    "\n",
    "- drop delivery time outliers\n",
    "- compare busy orders to number of orders\n",
    "- casting for np values (w3schools)\n",
    "- create variable \n"
   ]
  },
  {
   "cell_type": "markdown",
   "metadata": {},
   "source": [
    "__assumptions__\n",
    "- store_id references one physical restraunt location\n",
    "    - result: duplicate market_ids and store_primary_categorys are errors \n",
    "- orders were not placed ahead of time\n",
    "- all market_ids are in the same timezone\n",
    "-\n"
   ]
  },
  {
   "cell_type": "markdown",
   "metadata": {},
   "source": []
  },
  {
   "cell_type": "markdown",
   "metadata": {},
   "source": []
  },
  {
   "cell_type": "markdown",
   "metadata": {},
   "source": [
    "    4. actual_delivery_time"
   ]
  },
  {
   "cell_type": "code",
   "execution_count": null,
   "metadata": {
    "vscode": {
     "languageId": "plaintext"
    }
   },
   "outputs": [],
   "source": []
  },
  {
   "cell_type": "markdown",
   "metadata": {},
   "source": []
  }
 ],
 "metadata": {
  "language_info": {
   "name": "python"
  }
 },
 "nbformat": 4,
 "nbformat_minor": 2
}
